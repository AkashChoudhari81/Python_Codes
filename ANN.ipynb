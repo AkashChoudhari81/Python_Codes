{
 "cells": [
  {
   "cell_type": "code",
   "execution_count": 15,
   "id": "f4ed2ce5-369c-49d1-aa9b-4b7eab3431c9",
   "metadata": {},
   "outputs": [
    {
     "name": "stdout",
     "output_type": "stream",
     "text": [
      "Epoch:0 Loss:0.3855\n",
      "Epoch:1000 Loss:0.1345\n",
      "Epoch:2000 Loss:0.0149\n",
      "Epoch:3000 Loss:0.0057\n",
      "Epoch:4000 Loss:0.0033\n",
      "Epoch:5000 Loss:0.0022\n",
      "Epoch:6000 Loss:0.0017\n",
      "Epoch:7000 Loss:0.0013\n",
      "Epoch:8000 Loss:0.0011\n",
      "Epoch:9000 Loss:0.0009\n",
      "\n",
      " Final output after training is :\n",
      "[[0.033]\n",
      " [0.974]\n",
      " [0.974]\n",
      " [0.029]]\n"
     ]
    }
   ],
   "source": [
    "import numpy as np\n",
    "def sigmoid(x):\n",
    "    return 1/(1+np.exp(-x))\n",
    "\n",
    "def sigmoid_derivative(x):\n",
    "    return x * (1-x)\n",
    "\n",
    "X = np.array([\n",
    "    [0,0],\n",
    "    [0,1],\n",
    "    [1,0],\n",
    "    [1,1]])\n",
    "Y = np.array([[0],[1],[1],[0]])\n",
    "\n",
    "np.random.seed(42)\n",
    "input_layer_size = 2\n",
    "hidden_layer_size = 4\n",
    "output_layer_size = 1\n",
    "\n",
    "weights_input_hidden = np.random.rand(input_layer_size, hidden_layer_size)\n",
    "weights_hidden_output = np.random.rand(hidden_layer_size, output_layer_size)\n",
    "\n",
    "bias_hidden = np.random.rand(1, hidden_layer_size)\n",
    "bias_output = np.random.rand(1, output_layer_size)\n",
    "\n",
    "epochs = 10000\n",
    "learning_rate = 0.1\n",
    "\n",
    "for epoch in range(epochs):\n",
    "    #forward propogation\n",
    "    hidden_input = np.dot(X,weights_input_hidden) + bias_hidden\n",
    "    hidden_output = sigmoid(hidden_input)\n",
    "    final_input = np.dot(hidden_output,weights_hidden_output) + bias_output\n",
    "    final_output = sigmoid(final_input)\n",
    "    #backward propogation\n",
    "    #error calculation\n",
    "    error = Y-final_output\n",
    "    d_output = error * sigmoid_derivative(final_output)\n",
    "    hidden_error = d_output.dot(weights_hidden_output.T)\n",
    "    d_hidden = error * sigmoid_derivative(hidden_output)\n",
    "    #weights and bias updation\n",
    "    weights_hidden_output += hidden_output.T.dot(d_output) * learning_rate\n",
    "    bias_output += np.sum(d_output, axis = 0, keepdims = True) * learning_rate\n",
    "    weights_input_hidden += X.T.dot(d_hidden) * learning_rate\n",
    "    bias_hidden += np.sum(d_hidden, axis = 0, keepdims = True) * learning_rate\n",
    "    #loss calculation\n",
    "    if epoch%1000 ==0:\n",
    "        loss = np.mean(np.square(error))\n",
    "        print(f\"Epoch:{epoch} Loss:{loss:.4f}\")\n",
    "\n",
    "print(\"\\n Final output after training is :\")\n",
    "print(final_output.round(3))\n",
    "    "
   ]
  },
  {
   "cell_type": "code",
   "execution_count": null,
   "id": "13132aec-21f1-48cc-ace7-835fe2d63b86",
   "metadata": {},
   "outputs": [],
   "source": []
  }
 ],
 "metadata": {
  "kernelspec": {
   "display_name": "Python 3 (ipykernel)",
   "language": "python",
   "name": "python3"
  },
  "language_info": {
   "codemirror_mode": {
    "name": "ipython",
    "version": 3
   },
   "file_extension": ".py",
   "mimetype": "text/x-python",
   "name": "python",
   "nbconvert_exporter": "python",
   "pygments_lexer": "ipython3",
   "version": "3.12.7"
  }
 },
 "nbformat": 4,
 "nbformat_minor": 5
}
