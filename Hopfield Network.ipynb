{
 "cells": [
  {
   "cell_type": "code",
   "execution_count": 1,
   "id": "5dfecf0f-d771-4015-99dc-eda2e496681c",
   "metadata": {},
   "outputs": [],
   "source": [
    "import numpy as np"
   ]
  },
  {
   "cell_type": "code",
   "execution_count": 2,
   "id": "0e961586-ecc8-4f70-8013-55e8c8209d5d",
   "metadata": {},
   "outputs": [],
   "source": [
    "X1 = [0,0,1,1]\n",
    "X2 = [0,1,0,1]\n",
    "W1 = 1\n",
    "W2 = 1\n",
    "T = 0.8"
   ]
  },
  {
   "cell_type": "code",
   "execution_count": 7,
   "id": "89c3958f-8796-490b-bd45-261f03bcba69",
   "metadata": {},
   "outputs": [],
   "source": [
    "def Mccullochpitts(X1,X2,W1,W2,T):\n",
    "    andgate = []\n",
    "    for i in range(len(X1)):\n",
    "        X = X1[i] * W1 + X2[i] * W2\n",
    "        activation_function = 1/(1+np.exp(-X))\n",
    "        if activation_function > T:\n",
    "            andgate.append(1)\n",
    "        else:\n",
    "            andgate.append(0)\n",
    "\n",
    "    notgate = []\n",
    "    for i in range(len(andgate)):\n",
    "        if andgate[i]==1:\n",
    "            notgate.append(0)\n",
    "        else:\n",
    "            notgate.append(1)\n",
    "\n",
    "    return notgate"
   ]
  },
  {
   "cell_type": "code",
   "execution_count": 8,
   "id": "5be7617a-f4e6-4fd3-882a-a24b0ef97b3f",
   "metadata": {},
   "outputs": [
    {
     "data": {
      "text/plain": [
       "[1, 1, 1, 0]"
      ]
     },
     "execution_count": 8,
     "metadata": {},
     "output_type": "execute_result"
    }
   ],
   "source": [
    "Mccullochpitts(X1,X2,W1,W2,T)"
   ]
  },
  {
   "cell_type": "code",
   "execution_count": null,
   "id": "b0f5a3f8-2f6c-4e09-a3c4-3032060844e4",
   "metadata": {},
   "outputs": [],
   "source": []
  },
  {
   "cell_type": "code",
   "execution_count": null,
   "id": "2f81833c-131d-4748-8119-eb7539f190ac",
   "metadata": {},
   "outputs": [],
   "source": []
  },
  {
   "cell_type": "code",
   "execution_count": null,
   "id": "07f02234-bc8f-402c-a986-2611f1db6697",
   "metadata": {},
   "outputs": [],
   "source": []
  },
  {
   "cell_type": "code",
   "execution_count": 9,
   "id": "cdbeadaa-dc52-4836-83a3-5fae71fc78f3",
   "metadata": {},
   "outputs": [
    {
     "name": "stdout",
     "output_type": "stream",
     "text": [
      "Pattern: [1, -1, 1, -1]\n",
      "Recalled pattern: [ 1. -1.  1. -1.]\n",
      "Pattern: [-1, 1, -1, 1]\n",
      "Recalled pattern: [-1.  1. -1.  1.]\n",
      "Pattern: [1, 1, -1, -1]\n",
      "Recalled pattern: [ 1.  1. -1. -1.]\n",
      "Pattern: [-1, -1, 1, 1]\n",
      "Recalled pattern: [-1. -1.  1.  1.]\n"
     ]
    }
   ],
   "source": [
    "#Hopfield Network\n",
    "import numpy as np\n",
    "\n",
    "class HopfieldNetwork:\n",
    "    def __init__(self, num_neurons):\n",
    "        self.num_neurons = num_neurons   #initializes the network with a given number of neurons\n",
    "        self.weights = np.zeros((num_neurons, num_neurons)) #creates a weights matrix\n",
    "\n",
    "    def train(self, patterns):#To train the Hopfield network.\n",
    "        for pattern in patterns:\n",
    "            pattern = np.array(pattern)\n",
    "            outer_product = np.outer(pattern, pattern)\n",
    "            np.fill_diagonal(outer_product, 0)\n",
    "            self.weights += outer_product\n",
    "\n",
    "    def recall(self, pattern, max_iter=100): # used to recall a pattern from the trained network\n",
    "        pattern = np.array(pattern)\n",
    "        for _ in range(max_iter):\n",
    "            new_pattern = np.sign(np.dot(self.weights, pattern)) #Computes the new pattern by taking the sign of the dot product of the weights matrix and the current pattern.\n",
    "            if np.array_equal(new_pattern, pattern):\n",
    "                return new_pattern\n",
    "            pattern = new_pattern\n",
    "        print(\"Recall failed to converge.\")\n",
    "        return pattern\n",
    "\n",
    "if __name__ == \"__main__\":\n",
    "    # Define the patterns\n",
    "    patterns = [[1, -1, 1, -1], [-1, 1, -1, 1], [1, 1, -1, -1], [-1, -1, 1, 1]]\n",
    "\n",
    "    # Create a Hopfield network\n",
    "    hopfield_net = HopfieldNetwork(num_neurons=len(patterns[0]))\n",
    "\n",
    "    # Train the network\n",
    "    hopfield_net.train(patterns)\n",
    "\n",
    "    # Test recalling patterns\n",
    "    test_patterns = [[1, -1, 1, -1], [-1, 1, -1, 1], [1, 1, -1, -1], [-1, -1, 1, 1]]\n",
    "    for pattern in test_patterns:\n",
    "        recalled_pattern = hopfield_net.recall(pattern)\n",
    "        print(\"Pattern:\", pattern)\n",
    "        print(\"Recalled pattern:\", recalled_pattern)"
   ]
  },
  {
   "cell_type": "code",
   "execution_count": null,
   "id": "b1af2aa6-5980-4b1c-9a17-965e5730560c",
   "metadata": {},
   "outputs": [],
   "source": []
  }
 ],
 "metadata": {
  "kernelspec": {
   "display_name": "Python 3 (ipykernel)",
   "language": "python",
   "name": "python3"
  },
  "language_info": {
   "codemirror_mode": {
    "name": "ipython",
    "version": 3
   },
   "file_extension": ".py",
   "mimetype": "text/x-python",
   "name": "python",
   "nbconvert_exporter": "python",
   "pygments_lexer": "ipython3",
   "version": "3.12.7"
  }
 },
 "nbformat": 4,
 "nbformat_minor": 5
}
