{
 "cells": [
  {
   "cell_type": "code",
   "execution_count": 5,
   "id": "76056979-4a35-4a2f-a721-75f9d144f1fa",
   "metadata": {},
   "outputs": [
    {
     "name": "stdout",
     "output_type": "stream",
     "text": [
      "Welcome to Rock Paper Scissor Game !!!\n"
     ]
    },
    {
     "name": "stdin",
     "output_type": "stream",
     "text": [
      "Enter Your choice (rock,paper,scissor)  :  paper\n"
     ]
    },
    {
     "name": "stdout",
     "output_type": "stream",
     "text": [
      "The computer choice is :  scissor\n",
      "Game Over!!!!(.'.)\n"
     ]
    }
   ],
   "source": [
    "import random\n",
    "def rock_paper_scissor():\n",
    "    print(\"Welcome to Rock Paper Scissor Game !!!\")\n",
    "\n",
    "    choices = [\"rock\",\"paper\",\"scissor\"]\n",
    "    player_choice = input(\"Enter Your choice (rock,paper,scissor)  : \")\n",
    "\n",
    "    if player_choice not in choices:\n",
    "        print(\"Invalid Choice ......!Please Enter Correct Choice..! And Try Again?\")\n",
    "        return\n",
    "    \n",
    "    computer_choice = random.choice(choices)\n",
    "    print(\"The computer choice is : \",computer_choice)\n",
    "\n",
    "    if player_choice == computer_choice:\n",
    "        print(\"It's a tie ..!!\")\n",
    "    elif(player_choice == \"rock\" and computer_choice == \"scissor\") or (player_choice == \"paper\" and computer_choice == \"rock\") or (player_choice == \"scissor\" and computer_choice == \"paper\"):\n",
    "        print(\"You Win !!!\")\n",
    "\n",
    "    else:\n",
    "        print(\"Game Over!!!!(.'.)\")\n",
    "\n",
    "\n",
    "rock_paper_scissor()"
   ]
  },
  {
   "cell_type": "code",
   "execution_count": null,
   "id": "86f091d2-239a-47f0-a504-24e460fd8a72",
   "metadata": {},
   "outputs": [],
   "source": []
  }
 ],
 "metadata": {
  "kernelspec": {
   "display_name": "Python 3 (ipykernel)",
   "language": "python",
   "name": "python3"
  },
  "language_info": {
   "codemirror_mode": {
    "name": "ipython",
    "version": 3
   },
   "file_extension": ".py",
   "mimetype": "text/x-python",
   "name": "python",
   "nbconvert_exporter": "python",
   "pygments_lexer": "ipython3",
   "version": "3.12.7"
  }
 },
 "nbformat": 4,
 "nbformat_minor": 5
}
