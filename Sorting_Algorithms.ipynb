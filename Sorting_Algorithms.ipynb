{
 "cells": [
  {
   "cell_type": "code",
   "execution_count": 25,
   "id": "1490536b-2640-443f-8b68-c168d1cf9bdc",
   "metadata": {},
   "outputs": [
    {
     "name": "stdout",
     "output_type": "stream",
     "text": [
      "[10, 5, 2, 11, 9, 6, 7]\n"
     ]
    }
   ],
   "source": [
    "array = [10,5,2,11,9,6,7]\n",
    "print(array)"
   ]
  },
  {
   "cell_type": "code",
   "execution_count": 26,
   "id": "f109e530-34ba-4d1d-bbc9-fa894bf71db8",
   "metadata": {},
   "outputs": [],
   "source": [
    "def bubble_sort(arr):\n",
    "    for i in range(len(arr)):\n",
    "        for j in range(0,len(arr)-1):\n",
    "            if arr[j]>arr[j+1]:\n",
    "                arr[j],arr[j+1]=arr[j+1],arr[j]\n",
    "\n",
    "    return arr"
   ]
  },
  {
   "cell_type": "code",
   "execution_count": 27,
   "id": "1670830f-e5d8-4973-ad90-ac7aca5d131c",
   "metadata": {},
   "outputs": [
    {
     "name": "stdout",
     "output_type": "stream",
     "text": [
      "Sorted Array is:  [2, 5, 6, 7, 9, 10, 11]\n"
     ]
    }
   ],
   "source": [
    "print(\"Sorted Array is: \",bubble_sort(array))"
   ]
  },
  {
   "cell_type": "code",
   "execution_count": 28,
   "id": "38f0d9da-e8c6-49a5-b16d-6f94275b1431",
   "metadata": {},
   "outputs": [],
   "source": [
    "def selection_sort(arr):\n",
    "    for i in range(len(arr)):\n",
    "        min_value = i\n",
    "        for j in range(i+1,len(arr)):\n",
    "            if(arr[j]<arr[min_value]):\n",
    "                min_value = j\n",
    "\n",
    "        arr[i],arr[min_value]=arr[min_value],arr[i]\n",
    "\n",
    "    return arr\n",
    "    "
   ]
  },
  {
   "cell_type": "code",
   "execution_count": 29,
   "id": "1ed0c13c-e9aa-4980-b82b-41954866d7ab",
   "metadata": {},
   "outputs": [
    {
     "name": "stdout",
     "output_type": "stream",
     "text": [
      "Sorted Array is:  [2, 5, 6, 7, 9, 10, 11]\n"
     ]
    }
   ],
   "source": [
    "print(\"Sorted Array is: \",selection_sort(array))"
   ]
  },
  {
   "cell_type": "code",
   "execution_count": 30,
   "id": "f05dfa02-2728-4da7-a6ff-77f5f6ebfad7",
   "metadata": {},
   "outputs": [],
   "source": [
    "def insertion_sort(arr):\n",
    "    for i in range(1,len(arr)):\n",
    "        key = arr[i]\n",
    "        j = i-1\n",
    "        while j>=0 and key<arr[j]:\n",
    "            arr[j+1]=arr[j]\n",
    "            j-=1\n",
    "        arr[j+1]=key\n",
    "    return arr"
   ]
  },
  {
   "cell_type": "code",
   "execution_count": 31,
   "id": "f220de7d-4d18-4538-bf56-95c2217d206f",
   "metadata": {},
   "outputs": [
    {
     "name": "stdout",
     "output_type": "stream",
     "text": [
      "Sorted Array is:  [2, 5, 6, 7, 9, 10, 11]\n"
     ]
    }
   ],
   "source": [
    "print(\"Sorted Array is: \",insertion_sort(array))"
   ]
  },
  {
   "cell_type": "code",
   "execution_count": 32,
   "id": "12af7ee6-596f-4143-9ba5-a09bad8a47f3",
   "metadata": {},
   "outputs": [],
   "source": [
    "array1 = [5,2,9,8,3,4,6,7]"
   ]
  },
  {
   "cell_type": "code",
   "execution_count": 33,
   "id": "396a1ea1-f4db-4a62-bb15-70fd8bb360aa",
   "metadata": {},
   "outputs": [
    {
     "name": "stdout",
     "output_type": "stream",
     "text": [
      "Sorted Array is:  [2, 3, 4, 5, 6, 7, 8, 9]\n"
     ]
    }
   ],
   "source": [
    "print(\"Sorted Array is: \",insertion_sort(array1))"
   ]
  },
  {
   "cell_type": "code",
   "execution_count": 34,
   "id": "7b00ea9a-47ef-4a9d-b8f9-3355ba7572e4",
   "metadata": {},
   "outputs": [],
   "source": [
    "def insertion(arr):\n",
    "    for i in range(1,len(arr)):\n",
    "        key = arr[i]\n",
    "        j=i-1\n",
    "        while j>=0 and key<arr[j]:\n",
    "            arr[j+1] = arr[j]\n",
    "            j-=1\n",
    "        arr[j+1] = key\n",
    "    return arr"
   ]
  },
  {
   "cell_type": "code",
   "execution_count": 35,
   "id": "36e86742-6e7e-4d24-bdb3-7c11edebcc18",
   "metadata": {},
   "outputs": [
    {
     "name": "stdout",
     "output_type": "stream",
     "text": [
      "Sorted Array is:  [2, 3, 4, 5, 6, 7, 8, 9]\n"
     ]
    }
   ],
   "source": [
    "print(\"Sorted Array is: \",insertion(array1))"
   ]
  },
  {
   "cell_type": "code",
   "execution_count": 42,
   "id": "38d8b054-c2bd-4898-a1b7-e37c1b04f0dd",
   "metadata": {},
   "outputs": [],
   "source": [
    "def merge_sort(arr):\n",
    "    if len(arr)>1:\n",
    "        mid = len(arr)//2\n",
    "        left = arr[ :mid]\n",
    "        right = arr[mid: ]\n",
    "        merge_sort(left)\n",
    "        merge_sort(right)\n",
    "        i=j=k=0\n",
    "        while i<len(left) and j<len(right):\n",
    "            if left[i]<right[j]:\n",
    "                arr[k] = left[i]\n",
    "                i+=1\n",
    "            else:\n",
    "                arr[k] = right[j]\n",
    "                j+=1\n",
    "            k+=1\n",
    "    return arr"
   ]
  },
  {
   "cell_type": "code",
   "execution_count": 43,
   "id": "e006abbf-308f-4d89-bc89-4a1c180866b1",
   "metadata": {},
   "outputs": [
    {
     "name": "stdout",
     "output_type": "stream",
     "text": [
      "Sorted Array is:  [2, 3, 4, 5, 6, 7, 8, 9]\n"
     ]
    }
   ],
   "source": [
    "print(\"Sorted Array is: \",merge_sort(array1))"
   ]
  },
  {
   "cell_type": "code",
   "execution_count": 46,
   "id": "63bf76ac-9cb0-46cd-8663-1c87aa60f193",
   "metadata": {},
   "outputs": [],
   "source": [
    "def merge(arr):\n",
    "    if len(arr)>1:\n",
    "        mid = len(arr)//2\n",
    "        left = arr[ :mid]\n",
    "        right = arr[mid: ]\n",
    "        merge(left)\n",
    "        merge(right)\n",
    "        i=j=k=0\n",
    "        while i<len(left) and j< len(right):\n",
    "            if left[i]<right[j]:\n",
    "                arr[k] = left[i]\n",
    "                i+=1\n",
    "            else:\n",
    "                arr[k] = right[j]\n",
    "                j+=1\n",
    "            k+=1\n",
    "    return arr\n",
    "    \n"
   ]
  },
  {
   "cell_type": "code",
   "execution_count": null,
   "id": "bc9b7790-53bd-4de7-b4f0-477b4b504692",
   "metadata": {},
   "outputs": [],
   "source": [
    "print(\"Sorted Array is: \",mwrge(array1))"
   ]
  }
 ],
 "metadata": {
  "kernelspec": {
   "display_name": "Python 3 (ipykernel)",
   "language": "python",
   "name": "python3"
  },
  "language_info": {
   "codemirror_mode": {
    "name": "ipython",
    "version": 3
   },
   "file_extension": ".py",
   "mimetype": "text/x-python",
   "name": "python",
   "nbconvert_exporter": "python",
   "pygments_lexer": "ipython3",
   "version": "3.12.7"
  }
 },
 "nbformat": 4,
 "nbformat_minor": 5
}
