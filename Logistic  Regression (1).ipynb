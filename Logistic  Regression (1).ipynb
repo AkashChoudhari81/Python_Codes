{
 "cells": [
  {
   "cell_type": "code",
   "execution_count": 5,
   "id": "1cf51f40-8684-4094-bff5-62e894043852",
   "metadata": {},
   "outputs": [],
   "source": [
    "import numpy as np\n",
    "X1 = [0,0,1,1]\n",
    "X2 = [0,1,0,1]\n",
    "W1 = 1\n",
    "W2 = 1\n",
    "T = 0.8\n",
    "def McCullochPitts(X):\n",
    "    andgate = []\n",
    "    for i in range(len(X)):\n",
    "        X = X1[i]*W1 + X2[i]*W2\n",
    "        activation = 1/(1+np.exp(-X))\n",
    "        if activation > T:\n",
    "            andgate.append(1)\n",
    "        else:\n",
    "            andgate.append(0)\n",
    "\n",
    "    notgate = []\n",
    "    for i in range(len(andgate)):\n",
    "        if andgate[i] == 1:\n",
    "            notgate.append(0)\n",
    "        else:\n",
    "            notgate.append(1)\n",
    "\n",
    "    return notgate\n",
    "\n",
    "    \n",
    "        "
   ]
  },
  {
   "cell_type": "code",
   "execution_count": 6,
   "id": "e75901d3-ec8e-47f2-bd01-54ef1319fcb4",
   "metadata": {},
   "outputs": [
    {
     "data": {
      "text/plain": [
       "[1, 1, 1, 0]"
      ]
     },
     "execution_count": 6,
     "metadata": {},
     "output_type": "execute_result"
    }
   ],
   "source": [
    "McCullochPitts(X)"
   ]
  },
  {
   "cell_type": "code",
   "execution_count": 22,
   "id": "82c2be6d-df3f-4619-924f-4899a066f959",
   "metadata": {},
   "outputs": [
    {
     "name": "stdout",
     "output_type": "stream",
     "text": [
      "Epoch:0 Loss:0.3855\n",
      "Epoch:1000 Loss:0.2395\n",
      "Epoch:2000 Loss:0.1898\n",
      "Epoch:3000 Loss:0.1314\n",
      "Epoch:4000 Loss:0.0460\n",
      "Epoch:5000 Loss:0.0168\n",
      "Epoch:6000 Loss:0.0088\n",
      "Epoch:7000 Loss:0.0056\n",
      "Epoch:8000 Loss:0.0040\n",
      "Epoch:9000 Loss:0.0031\n",
      "\n",
      " The Final Output after training is :\n",
      "[[0.05 ]\n",
      " [0.947]\n",
      " [0.957]\n",
      " [0.051]]\n"
     ]
    }
   ],
   "source": [
    "import numpy as np\n",
    "def sigmoid(x):\n",
    "    return 1/(1+np.exp(-x))\n",
    "\n",
    "def sigmoid_derivative(x):\n",
    "    return x*(1-x)\n",
    "\n",
    "X = np.array([\n",
    "    [0,0],\n",
    "    [0,1],\n",
    "    [1,0],\n",
    "    [1,1]])\n",
    "Y = np.array([[0],[1],[1],[0]])\n",
    "\n",
    "np.random.seed(42)\n",
    "input_layer_size = 2\n",
    "hidden_layer_size = 4\n",
    "output_layer_size = 1\n",
    "\n",
    "weights_input_hidden = np.random.rand(input_layer_size, hidden_layer_size)\n",
    "weights_hidden_output = np.random.rand(hidden_layer_size, output_layer_size)\n",
    "\n",
    "bias_hidden = np.random.rand(1, hidden_layer_size)\n",
    "bias_output = np.random.rand(1, output_layer_size)\n",
    "\n",
    "epochs = 10000\n",
    "learning_rate = 0.1\n",
    "\n",
    "for epoch in range(epochs):\n",
    "    #  .......Forward propogation.......\n",
    "    #Hidden layer\n",
    "    hidden_input = np.dot(X, weights_input_hidden) + bias_hidden\n",
    "    hidden_output = sigmoid(hidden_input)\n",
    "    #Final layer\n",
    "    final_input = np.dot(hidden_output, weights_hidden_output) + bias_output\n",
    "    final_output = sigmoid(final_input)\n",
    "\n",
    "    #  .......backward propogation......\n",
    "    #error calculation\n",
    "    error = Y - final_output\n",
    "    d_output = error * sigmoid_derivative(final_output)\n",
    "    error_hidden = d_output.dot(weights_hidden_output.T)\n",
    "    d_hidden = error_hidden * sigmoid_derivative(hidden_output)\n",
    "    \n",
    "\n",
    "    #weights and bias updation\n",
    "    weights_hidden_output += hidden_output.T.dot(d_output) * learning_rate\n",
    "    bias_output += np.sum(d_output, axis = 0, keepdims = True) *learning_rate\n",
    "    weights_input_hidden += X.T.dot(d_hidden) * learning_rate\n",
    "    bias_hidden += np.sum(d_hidden, axis = 0, keepdims = True) *learning_rate\n",
    "\n",
    "    #loss calculation\n",
    "    if epoch % 1000 ==0:\n",
    "        loss = np.mean(np.square(error))\n",
    "        print(f\"Epoch:{epoch} Loss:{loss:.4f}\")\n",
    "\n",
    "print(\"\\n The Final Output after training is :\")\n",
    "print(final_output.round(3))\n",
    "\n",
    "    "
   ]
  },
  {
   "cell_type": "code",
   "execution_count": 23,
   "id": "47f55851-2658-4906-909c-9cdc6a13078e",
   "metadata": {},
   "outputs": [
    {
     "name": "stdout",
     "output_type": "stream",
     "text": [
      "Epoch 1/10\n",
      "\u001b[1m25/25\u001b[0m \u001b[32m━━━━━━━━━━━━━━━━━━━━\u001b[0m\u001b[37m\u001b[0m \u001b[1m2s\u001b[0m 5ms/step - accuracy: 0.3020 - loss: 1.1486\n",
      "Epoch 2/10\n",
      "\u001b[1m25/25\u001b[0m \u001b[32m━━━━━━━━━━━━━━━━━━━━\u001b[0m\u001b[37m\u001b[0m \u001b[1m0s\u001b[0m 5ms/step - accuracy: 0.3155 - loss: 1.1053\n",
      "Epoch 3/10\n",
      "\u001b[1m25/25\u001b[0m \u001b[32m━━━━━━━━━━━━━━━━━━━━\u001b[0m\u001b[37m\u001b[0m \u001b[1m0s\u001b[0m 6ms/step - accuracy: 0.3130 - loss: 1.0786\n",
      "Epoch 4/10\n",
      "\u001b[1m25/25\u001b[0m \u001b[32m━━━━━━━━━━━━━━━━━━━━\u001b[0m\u001b[37m\u001b[0m \u001b[1m0s\u001b[0m 5ms/step - accuracy: 0.3344 - loss: 1.0149\n",
      "Epoch 5/10\n",
      "\u001b[1m25/25\u001b[0m \u001b[32m━━━━━━━━━━━━━━━━━━━━\u001b[0m\u001b[37m\u001b[0m \u001b[1m0s\u001b[0m 5ms/step - accuracy: 0.3383 - loss: 0.9858\n",
      "Epoch 6/10\n",
      "\u001b[1m25/25\u001b[0m \u001b[32m━━━━━━━━━━━━━━━━━━━━\u001b[0m\u001b[37m\u001b[0m \u001b[1m0s\u001b[0m 5ms/step - accuracy: 0.3615 - loss: 0.9228\n",
      "Epoch 7/10\n",
      "\u001b[1m25/25\u001b[0m \u001b[32m━━━━━━━━━━━━━━━━━━━━\u001b[0m\u001b[37m\u001b[0m \u001b[1m0s\u001b[0m 5ms/step - accuracy: 0.3837 - loss: 0.9181\n",
      "Epoch 8/10\n",
      "\u001b[1m25/25\u001b[0m \u001b[32m━━━━━━━━━━━━━━━━━━━━\u001b[0m\u001b[37m\u001b[0m \u001b[1m0s\u001b[0m 8ms/step - accuracy: 0.4332 - loss: 0.8738\n",
      "Epoch 9/10\n",
      "\u001b[1m25/25\u001b[0m \u001b[32m━━━━━━━━━━━━━━━━━━━━\u001b[0m\u001b[37m\u001b[0m \u001b[1m0s\u001b[0m 5ms/step - accuracy: 0.4459 - loss: 0.8283\n",
      "Epoch 10/10\n",
      "\u001b[1m25/25\u001b[0m \u001b[32m━━━━━━━━━━━━━━━━━━━━\u001b[0m\u001b[37m\u001b[0m \u001b[1m0s\u001b[0m 6ms/step - accuracy: 0.4509 - loss: 0.8178\n",
      "Test Accuracy: 0.44\n"
     ]
    }
   ],
   "source": [
    "import tensorflow as tf\n",
    "from sklearn.model_selection import train_test_split\n",
    "from sklearn.datasets import make_classification\n",
    "\n",
    "# Generate a simple dataset\n",
    "X, y = make_classification(n_samples=1000, n_features=10, n_classes=2, random_state=42)\n",
    "\n",
    "# Split into train and test\n",
    "X_train, X_test, y_train, y_test = train_test_split(X, y, test_size=0.2, random_state=42)\n",
    "\n",
    "# Build logistic regression model\n",
    "model = tf.keras.Sequential([\n",
    "    tf.keras.layers.Dense(1, activation='sigmoid')\n",
    "])\n",
    "\n",
    "# Compile the model\n",
    "model.compile(optimizer='adam', loss='binary_crossentropy', metrics=['accuracy'])\n",
    "\n",
    "# Train the model\n",
    "model.fit(X_train, y_train, epochs=10, batch_size=32, verbose=1)\n",
    "\n",
    "# Evaluate the model\n",
    "loss, accuracy = model.evaluate(X_test, y_test, verbose=0)\n",
    "print(f'Test Accuracy: {accuracy:.2f}')\n"
   ]
  },
  {
   "cell_type": "code",
   "execution_count": 11,
   "id": "72cfe94c-b9be-4f30-baae-30167130fcb5",
   "metadata": {},
   "outputs": [
    {
     "name": "stderr",
     "output_type": "stream",
     "text": [
      "C:\\Users\\admin\\AppData\\Local\\Temp\\ipykernel_7768\\4131960852.py:37: RuntimeWarning: divide by zero encountered in divide\n",
      "  y_vals = (-model.weights[0] * x_vals - model.bias)/ model.weights[1]\n"
     ]
    },
    {
     "data": {
      "text/plain": [
       "[<matplotlib.lines.Line2D at 0x26624d1dbb0>]"
      ]
     },
     "execution_count": 11,
     "metadata": {},
     "output_type": "execute_result"
    },
    {
     "data": {
      "image/png": "[encoded data removed]",
      "text/plain": [
       "<Figure size 640x480 with 1 Axes>"
      ]
     },
     "metadata": {},
     "output_type": "display_data"
    }
   ],
   "source": [
    "import numpy as np\n",
    "import matplotlib.pyplot as plt\n",
    "X = np.array([\n",
    "    [0,0],\n",
    "    [0,1],\n",
    "    [1,0],\n",
    "    [1,1]])\n",
    "Y = np.array([0,0,0,1])\n",
    "\n",
    "class Perceptron():\n",
    "    def __init__(self):\n",
    "        self.weights = np.zeros(2)\n",
    "        self.bias = 0.75\n",
    "\n",
    "    def activation(self,x):\n",
    "        return 1 if x>0 else 0\n",
    "\n",
    "    def predict(self,x):\n",
    "        return self.activation(np.dot(x,self.weights) + self.bias)\n",
    "\n",
    "    def train(self,X,Y,lr=0.1,epoch=10):\n",
    "        for _ in range(len(X)):\n",
    "            for xi,target in zip(X,Y):\n",
    "                \n",
    "                pred = self.predict(xi)\n",
    "                error = target - pred\n",
    "                self.weights += lr * error * xi\n",
    "                self.bias += lr * error\n",
    "model = Perceptron()\n",
    "model.train(X,Y)\n",
    "\n",
    "for i in range(len(X)):\n",
    "    color = 'red' if Y[i]==0 else 'blue'\n",
    "    plt.scatter(X[i][0],X[i][1], color = color)\n",
    "\n",
    "x_vals = np.array([X[:,0].min()-1,X[:,0].max()+1])\n",
    "y_vals = (-model.weights[0] * x_vals - model.bias)/ model.weights[1]\n",
    "plt.plot(x_vals,y_vals,'k--',label = 'decision boundary')"
   ]
  },
  {
   "cell_type": "code",
   "execution_count": null,
   "id": "fffd7b9d-71e4-4619-9dba-990f581ccc35",
   "metadata": {},
   "outputs": [],
   "source": []
  },
  {
   "cell_type": "code",
   "execution_count": 12,
   "id": "c22e0acf-1170-4753-804b-f2061c6a8a62",
   "metadata": {},
   "outputs": [],
   "source": [
    "import numpy as np\n",
    "import matplotlib.pyplot as plt\n",
    "\n",
    "\n",
    "X = np.array([\n",
    "    [0,0],\n",
    "    [0,1],\n",
    "    [1,0],\n",
    "    [1,1]])\n",
    "Y = np.array([[0],[0],[0],[1]])\n",
    "\n",
    "class Perceptron():\n",
    "    def __init__(self):\n",
    "        "
   ]
  },
  {
   "cell_type": "code",
   "execution_count": null,
   "id": "03aaf94d-c4b4-453f-b31f-f4e71454c442",
   "metadata": {},
   "outputs": [],
   "source": []
  }
 ],
 "metadata": {
  "kernelspec": {
   "display_name": "Python 3 (ipykernel)",
   "language": "python",
   "name": "python3"
  },
  "language_info": {
   "codemirror_mode": {
    "name": "ipython",
    "version": 3
   },
   "file_extension": ".py",
   "mimetype": "text/x-python",
   "name": "python",
   "nbconvert_exporter": "python",
   "pygments_lexer": "ipython3",
   "version": "3.12.7"
  }
 },
 "nbformat": 4,
 "nbformat_minor": 5
}
