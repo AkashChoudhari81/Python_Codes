{
 "cells": [
  {
   "cell_type": "code",
   "execution_count": 1,
   "id": "ea66d75d-504b-4b8d-8211-070063fcce02",
   "metadata": {},
   "outputs": [
    {
     "name": "stdout",
     "output_type": "stream",
     "text": [
      "Array is :  [4, 5, 8, 7, 3, 6, 2, 9, 1]\n"
     ]
    }
   ],
   "source": [
    "array = [4,5,8,7,3,6,2,9,1]\n",
    "print(\"Array is : \",array)"
   ]
  },
  {
   "cell_type": "code",
   "execution_count": 2,
   "id": "620197cd-f05a-4dc8-abae-fcf3af87e56e",
   "metadata": {},
   "outputs": [],
   "source": [
    "def linear_search(arr,target):\n",
    "    for i in range(len(arr)):\n",
    "        if arr[i] == target:\n",
    "            return i\n",
    "\n",
    "    print(\"Not Found\")"
   ]
  },
  {
   "cell_type": "code",
   "execution_count": 3,
   "id": "2fad32f9-c129-41fa-a863-80d7de6b4d49",
   "metadata": {},
   "outputs": [
    {
     "data": {
      "text/plain": [
       "3"
      ]
     },
     "execution_count": 3,
     "metadata": {},
     "output_type": "execute_result"
    }
   ],
   "source": [
    "linear_search(array,7)"
   ]
  },
  {
   "cell_type": "code",
   "execution_count": 4,
   "id": "3225f69e-e43f-445d-9e26-58b7c2b13d5a",
   "metadata": {},
   "outputs": [],
   "source": [
    "def binary_search(arr,target):\n",
    "    low = 0\n",
    "    high = len(arr)-1\n",
    "    while low<=high:\n",
    "        mid = (high+low)//2\n",
    "        if arr[mid]<target:\n",
    "            low =mid+1\n",
    "        elif arr[mid]>target:\n",
    "            high = mid-1\n",
    "        else:\n",
    "            return mid\n",
    "    return -1\n",
    "            "
   ]
  },
  {
   "cell_type": "code",
   "execution_count": 5,
   "id": "cb1fe462-1f56-4716-a325-82245bc8c4b6",
   "metadata": {},
   "outputs": [
    {
     "data": {
      "text/plain": [
       "-1"
      ]
     },
     "execution_count": 5,
     "metadata": {},
     "output_type": "execute_result"
    }
   ],
   "source": [
    "binary_search(array,7)"
   ]
  },
  {
   "cell_type": "code",
   "execution_count": 6,
   "id": "d2acf9de-ea1f-4c6c-88fd-90da82e7e396",
   "metadata": {},
   "outputs": [
    {
     "data": {
      "text/plain": [
       "-1"
      ]
     },
     "execution_count": 6,
     "metadata": {},
     "output_type": "execute_result"
    }
   ],
   "source": [
    "binary_search(array,5)"
   ]
  },
  {
   "cell_type": "code",
   "execution_count": 7,
   "id": "691c051f-58e8-4870-a2c9-6a9268aefaa9",
   "metadata": {},
   "outputs": [],
   "source": [
    "def bubble_sort(arr):\n",
    "    for i in range(len(arr)):\n",
    "        for j in range(0,len(arr)-1):\n",
    "            if arr[j]>arr[j+1]:\n",
    "                arr[j],arr[j+1]=arr[j+1],arr[j]\n",
    "\n",
    "    return arr"
   ]
  },
  {
   "cell_type": "code",
   "execution_count": 8,
   "id": "b6cdd894-f82c-42e8-af28-f10cceece7a1",
   "metadata": {},
   "outputs": [
    {
     "name": "stdout",
     "output_type": "stream",
     "text": [
      "[1, 2, 3, 4, 5, 6, 7, 8, 9]\n"
     ]
    }
   ],
   "source": [
    "sorted_array = bubble_sort(array)\n",
    "print(sorted_array)"
   ]
  },
  {
   "cell_type": "code",
   "execution_count": 9,
   "id": "c37b0ffb-e865-4ee7-ae6e-5f742e0b9136",
   "metadata": {},
   "outputs": [
    {
     "data": {
      "text/plain": [
       "8"
      ]
     },
     "execution_count": 9,
     "metadata": {},
     "output_type": "execute_result"
    }
   ],
   "source": [
    "binary_search(array,9)"
   ]
  },
  {
   "cell_type": "code",
   "execution_count": 10,
   "id": "81f45a00-1965-43fa-9026-e6f23c3b5ce1",
   "metadata": {},
   "outputs": [
    {
     "data": {
      "text/plain": [
       "6"
      ]
     },
     "execution_count": 10,
     "metadata": {},
     "output_type": "execute_result"
    }
   ],
   "source": [
    "binary_search(array,7)"
   ]
  },
  {
   "cell_type": "code",
   "execution_count": null,
   "id": "5fc12bcc-9964-4f4b-a152-b612e99f6ccb",
   "metadata": {},
   "outputs": [],
   "source": []
  }
 ],
 "metadata": {
  "kernelspec": {
   "display_name": "Python 3 (ipykernel)",
   "language": "python",
   "name": "python3"
  },
  "language_info": {
   "codemirror_mode": {
    "name": "ipython",
    "version": 3
   },
   "file_extension": ".py",
   "mimetype": "text/x-python",
   "name": "python",
   "nbconvert_exporter": "python",
   "pygments_lexer": "ipython3",
   "version": "3.12.7"
  }
 },
 "nbformat": 4,
 "nbformat_minor": 5
}
